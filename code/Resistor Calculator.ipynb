{
 "cells": [
  {
   "cell_type": "code",
   "execution_count": 7,
   "metadata": {},
   "outputs": [],
   "source": [
    "# Configure Jupyter so figures appear in the notebook\n",
    "%matplotlib inline\n",
    "\n",
    "# Configure Jupyter to display the assigned value after an assignment\n",
    "%config InteractiveShell.ast_node_interactivity='last_expr_or_assign'\n",
    "\n",
    "# import functions from the modsim.py module\n",
    "from modsim import *"
   ]
  },
  {
   "cell_type": "code",
   "execution_count": 8,
   "metadata": {},
   "outputs": [],
   "source": [
    "resistors = [51.1, 60.4, 115, 121, 127, 158, 200, 301, 604,499,\n",
    "            1.58e3, 2e3, 2.49e3,3e3,4.02e3,4.99e3,6.04e3,15.8e3,\n",
    "            20e3,30.1e3, 34e3,49e3,57.6e3,121e3,124e3,158e3,200e3,499e3,\n",
    "            10,100,1e3,10e3,100e3,1e6];"
   ]
  },
  {
   "cell_type": "code",
   "execution_count": 9,
   "metadata": {},
   "outputs": [],
   "source": [
    "def make_parallel(R_desired):\n",
    "    results = DataFrame(columns=resistors)\n",
    "    \n",
    "    for R1 in resistors:\n",
    "        for R2 in resistors:\n",
    "            results.at[R1,R2] = abs(1 / (1/R1 + 1/R2) - R_desired)\n",
    "            \n",
    "    R1 = results.min(axis=1).idxmin()\n",
    "    R2 = results.min(axis=0).idxmin()\n",
    "    R_actual = 1 / (1/R1 + 1/R2)\n",
    "    R_error = R_actual - R_desired\n",
    "    #return R_actual,R1,R2,R_error,results\n",
    "    return results[results.values == results.values.min()].min(axis=1).index"
   ]
  },
  {
   "cell_type": "code",
   "execution_count": 10,
   "metadata": {},
   "outputs": [],
   "source": [
    "def make_series(R_desired):\n",
    "    results = DataFrame(columns=resistors)\n",
    "    \n",
    "    for R1 in resistors:\n",
    "        for R2 in resistors:\n",
    "            results.at[R1,R2] = abs(R1 + R2 - R_desired)\n",
    "            \n",
    "    R1 = results.min(axis=0).idxmin()\n",
    "    R2 = results.min(axis=1).idxmin()\n",
    "    R_actual = R1 + R2\n",
    "    R_error = R_actual - R_desired\n",
    "    \n",
    "    #return R_actual,R1,R2,R_error,results.min().min()\n",
    "    return results[results.values == results.values.min()].min(axis=1).index"
   ]
  },
  {
   "cell_type": "code",
   "execution_count": 11,
   "metadata": {},
   "outputs": [],
   "source": [
    "def best_combo(R_desired):\n",
    "    P = make_parallel(R_desired)\n",
    "    P_actual = 1 / (1/P[0] + 1/P[1])\n",
    "    P_err =  P_actual - R_desired\n",
    "    S = make_series(R_desired)\n",
    "    S_actual = S[0] + S[1]\n",
    "    S_err = S_actual - R_desired\n",
    "    if(abs(P_err) < abs(S_err)):\n",
    "        return \"Parallel\",P[0], P[1], P_actual,P_err,\"Series\",S[0], S[1], S_actual,S_err\n",
    "    else:\n",
    "        return \"Series\",S[0], S[1], S_actual,S_err,\"Parallel\",P[0], P[1], P_actual,P_err"
   ]
  },
  {
   "cell_type": "code",
   "execution_count": 16,
   "metadata": {},
   "outputs": [
    {
     "data": {
      "text/plain": [
       "Float64Index([30100.0, 49000.0], dtype='float64')"
      ]
     },
     "execution_count": 16,
     "metadata": {},
     "output_type": "execute_result"
    }
   ],
   "source": [
    "results = make_series(3.980892e+01)"
   ]
  },
  {
   "cell_type": "code",
   "execution_count": 17,
   "metadata": {},
   "outputs": [
    {
     "data": {
      "text/plain": [
       "Float64Index([158000.0], dtype='float64')"
      ]
     },
     "execution_count": 17,
     "metadata": {},
     "output_type": "execute_result"
    }
   ],
   "source": [
    "results = make_parallel(3.980892e+01)"
   ]
  },
  {
   "cell_type": "code",
   "execution_count": null,
   "metadata": {},
   "outputs": [],
   "source": []
  }
 ],
 "metadata": {
  "kernelspec": {
   "display_name": "Python 3",
   "language": "python",
   "name": "python3"
  },
  "language_info": {
   "codemirror_mode": {
    "name": "ipython",
    "version": 3
   },
   "file_extension": ".py",
   "mimetype": "text/x-python",
   "name": "python",
   "nbconvert_exporter": "python",
   "pygments_lexer": "ipython3",
   "version": "3.6.6"
  }
 },
 "nbformat": 4,
 "nbformat_minor": 2
}
