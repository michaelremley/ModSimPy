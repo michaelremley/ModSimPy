{
 "cells": [
  {
   "cell_type": "markdown",
   "metadata": {},
   "source": [
    "# HIV Kinda Sucks\n",
    "By: Michael Remley\n",
    "\n",
    "Patent Pending"
   ]
  },
  {
   "cell_type": "code",
   "execution_count": 2,
   "metadata": {},
   "outputs": [],
   "source": [
    "# Configure Jupyter so figures appear in the notebook\n",
    "%matplotlib inline\n",
    "\n",
    "# Configure Jupyter to display the assigned value after an assignment\n",
    "%config InteractiveShell.ast_node_interactivity='last_expr_or_assign'\n",
    "\n",
    "# import functions from the modsim.py module\n",
    "from modsim import *"
   ]
  },
  {
   "cell_type": "code",
   "execution_count": 3,
   "metadata": {},
   "outputs": [
    {
     "ename": "SyntaxError",
     "evalue": "invalid syntax (<ipython-input-3-00548a99fb61>, line 1)",
     "output_type": "error",
     "traceback": [
      "\u001b[1;36m  File \u001b[1;32m\"<ipython-input-3-00548a99fb61>\"\u001b[1;36m, line \u001b[1;32m1\u001b[0m\n\u001b[1;33m    init = State(R=???,L=???,E=???,V=???)\u001b[0m\n\u001b[1;37m                   ^\u001b[0m\n\u001b[1;31mSyntaxError\u001b[0m\u001b[1;31m:\u001b[0m invalid syntax\n"
     ]
    }
   ],
   "source": [
    "init = State(R=???,L=???,E=???,V=???)\n",
    "def update_func(system,state):\n",
    "    dRdt = system.Γ * system.τ - system.μ * state.R - system.β * state.R * state.V\n",
    "    dLdt = system.ρ * system.β * state.R * state.V - system.μ * state.L - system.α * state.L\n",
    "    dEdt = (1 - system.ρ) * system.β * state.R * state.V - system.α * state.L - system.δ * state.E\n",
    "    dVdt = system.π * state.E - system.σ * state.V\n",
    "    \n",
    "    r += dRdt\n",
    "    l += dLdt\n",
    "    e += dEdt\n",
    "    v += dVdt\n",
    "    \n",
    "    return state(R=r,L=l,E=e,V=v)\n",
    "\n",
    "system = System(β=0.00027,\n",
    "                μ=1.36E-3,\n",
    "                Γ=1.36,\n",
    "                τ=0.2,\n",
    "                ρ=0.1,\n",
    "                δ=0.33,\n",
    "                α=3.6E-2,\n",
    "                σ=2,\n",
    "                π=100,\n",
    "                init=init)"
   ]
  },
  {
   "cell_type": "code",
   "execution_count": null,
   "metadata": {},
   "outputs": [],
   "source": []
  }
 ],
 "metadata": {
  "kernelspec": {
   "display_name": "Python 3",
   "language": "python",
   "name": "python3"
  },
  "language_info": {
   "codemirror_mode": {
    "name": "ipython",
    "version": 3
   },
   "file_extension": ".py",
   "mimetype": "text/x-python",
   "name": "python",
   "nbconvert_exporter": "python",
   "pygments_lexer": "ipython3",
   "version": "3.6.6"
  }
 },
 "nbformat": 4,
 "nbformat_minor": 2
}
