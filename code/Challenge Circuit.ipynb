{
 "cells": [
  {
   "cell_type": "code",
   "execution_count": 29,
   "metadata": {},
   "outputs": [],
   "source": [
    "# Configure Jupyter so figures appear in the notebook\n",
    "%matplotlib inline\n",
    "\n",
    "# Configure Jupyter to display the assigned value after an assignment\n",
    "%config InteractiveShell.ast_node_interactivity='last_expr_or_assign'\n",
    "\n",
    "# import functions from the modsim.py module\n",
    "from modsim import *\n",
    "\n",
    "from sympy import *\n",
    "\n",
    "init_printing() "
   ]
  },
  {
   "cell_type": "code",
   "execution_count": 30,
   "metadata": {},
   "outputs": [
    {
     "data": {
      "image/png": "[encoded data removed]",
      "text/latex": [
       "$$Vout = \\frac{R_{7} \\left(V_{2} - \\frac{R_{5} \\left(V_{1} - V_{2}\\right)}{R_{4}}\\right)}{R_{6} + R_{7}} - \\frac{R_{2} \\left(- \\frac{R_{3} \\left(V_{1} - V_{2}\\right)}{R_{4}} - \\frac{R_{7} \\left(V_{2} - \\frac{R_{5} \\left(V_{1} - V_{2}\\right)}{R_{4}}\\right)}{R_{6} + R_{7}} + V_{1}\\right)}{R_{1}}$$"
      ],
      "text/plain": [
       "                                   ⎛                    ⎛     R₅⋅(V₁ - V₂)⎞   \n",
       "                                   ⎜                 R₇⋅⎜V₂ - ────────────⎟   \n",
       "          ⎛     R₅⋅(V₁ - V₂)⎞      ⎜  R₃⋅(V₁ - V₂)      ⎝          R₄     ⎠   \n",
       "       R₇⋅⎜V₂ - ────────────⎟   R₂⋅⎜- ──────────── - ────────────────────── + \n",
       "          ⎝          R₄     ⎠      ⎝       R₄               R₆ + R₇           \n",
       "Vout = ────────────────────── - ──────────────────────────────────────────────\n",
       "              R₆ + R₇                                   R₁                    \n",
       "\n",
       "  ⎞\n",
       "  ⎟\n",
       "  ⎟\n",
       "V₁⎟\n",
       "  ⎠\n",
       "───\n",
       "   "
      ]
     },
     "execution_count": 30,
     "metadata": {},
     "output_type": "execute_result"
    }
   ],
   "source": [
    "R1, R2, R3, R4, R5, R6, R7 = symbols('R1 R2 R3 R4 R5 R6 R7')\n",
    "V1, V2, Vout, Va, Vb, Vc = symbols('V1 V2 Vout Va Vb Vc')\n",
    "I1, I2, I3 = symbols('I1 I2 I3')\n",
    "eq = Eq(Vout, (R7/(R7+R6))*(V2 - (V1-V2)*R5/R4) - (R2/R1)*(V1 - (R3/R4)*(V1-V2) - (R7/(R7 +R6))*(V2 - (R5/R4)*(V1-V2))))\n",
    "eq"
   ]
  },
  {
   "cell_type": "code",
   "execution_count": 31,
   "metadata": {},
   "outputs": [
    {
     "data": {
      "image/png": "[encoded data removed]",
      "text/latex": [
       "$$\\frac{V_{1} - V_{2}}{R_{4}}$$"
      ],
      "text/plain": [
       "V₁ - V₂\n",
       "───────\n",
       "   R₄  "
      ]
     },
     "execution_count": 31,
     "metadata": {},
     "output_type": "execute_result"
    }
   ],
   "source": [
    "I2 = (V1 - V2) / R4"
   ]
  },
  {
   "cell_type": "code",
   "execution_count": 32,
   "metadata": {},
   "outputs": [
    {
     "data": {
      "image/png": "[encoded data removed]",
      "text/latex": [
       "$$V_{2} - \\frac{R_{5} \\left(V_{1} - V_{2}\\right)}{R_{4}}$$"
      ],
      "text/plain": [
       "     R₅⋅(V₁ - V₂)\n",
       "V₂ - ────────────\n",
       "          R₄     "
      ]
     },
     "execution_count": 32,
     "metadata": {},
     "output_type": "execute_result"
    }
   ],
   "source": [
    "Vb = V2 - R5*I2"
   ]
  },
  {
   "cell_type": "code",
   "execution_count": 33,
   "metadata": {},
   "outputs": [
    {
     "data": {
      "image/png": "[encoded data removed]",
      "text/latex": [
       "$$\\frac{R_{7} \\left(V_{2} - \\frac{R_{5} \\left(V_{1} - V_{2}\\right)}{R_{4}}\\right)}{R_{6} + R_{7}}$$"
      ],
      "text/plain": [
       "   ⎛     R₅⋅(V₁ - V₂)⎞\n",
       "R₇⋅⎜V₂ - ────────────⎟\n",
       "   ⎝          R₄     ⎠\n",
       "──────────────────────\n",
       "       R₆ + R₇        "
      ]
     },
     "execution_count": 33,
     "metadata": {},
     "output_type": "execute_result"
    }
   ],
   "source": [
    "Vc = R7*Vb / (R6+R7)"
   ]
  },
  {
   "cell_type": "code",
   "execution_count": 34,
   "metadata": {},
   "outputs": [
    {
     "data": {
      "image/png": "[encoded data removed]",
      "text/latex": [
       "$$\\frac{V_{2} - \\frac{R_{5} \\left(V_{1} - V_{2}\\right)}{R_{4}}}{R_{6} + R_{7}}$$"
      ],
      "text/plain": [
       "     R₅⋅(V₁ - V₂)\n",
       "V₂ - ────────────\n",
       "          R₄     \n",
       "─────────────────\n",
       "     R₆ + R₇     "
      ]
     },
     "execution_count": 34,
     "metadata": {},
     "output_type": "execute_result"
    }
   ],
   "source": [
    "I3 = Vc/R7"
   ]
  },
  {
   "cell_type": "code",
   "execution_count": 35,
   "metadata": {},
   "outputs": [
    {
     "data": {
      "image/png": "[encoded data removed]",
      "text/latex": [
       "$$- \\frac{R_{3} \\left(V_{1} - V_{2}\\right)}{R_{4}} + V_{1}$$"
      ],
      "text/plain": [
       "  R₃⋅(V₁ - V₂)     \n",
       "- ──────────── + V₁\n",
       "       R₄          "
      ]
     },
     "execution_count": 35,
     "metadata": {},
     "output_type": "execute_result"
    }
   ],
   "source": [
    "Va = V1 - R3*I2"
   ]
  },
  {
   "cell_type": "code",
   "execution_count": 36,
   "metadata": {},
   "outputs": [
    {
     "data": {
      "image/png": "[encoded data removed]",
      "text/latex": [
       "$$\\frac{\\frac{R_{3} \\left(V_{1} - V_{2}\\right)}{R_{4}} + \\frac{R_{7} \\left(V_{2} - \\frac{R_{5} \\left(V_{1} - V_{2}\\right)}{R_{4}}\\right)}{R_{6} + R_{7}} - V_{1}}{R_{1}}$$"
      ],
      "text/plain": [
       "                  ⎛     R₅⋅(V₁ - V₂)⎞     \n",
       "               R₇⋅⎜V₂ - ────────────⎟     \n",
       "R₃⋅(V₁ - V₂)      ⎝          R₄     ⎠     \n",
       "──────────── + ────────────────────── - V₁\n",
       "     R₄               R₆ + R₇             \n",
       "──────────────────────────────────────────\n",
       "                    R₁                    "
      ]
     },
     "execution_count": 36,
     "metadata": {},
     "output_type": "execute_result"
    }
   ],
   "source": [
    "I1 = -(Va - Vc)/R1"
   ]
  },
  {
   "cell_type": "code",
   "execution_count": 37,
   "metadata": {},
   "outputs": [
    {
     "data": {
      "image/png": "[encoded data removed]",
      "text/latex": [
       "$$\\frac{R_{7} \\left(V_{2} - \\frac{R_{5} \\left(V_{1} - V_{2}\\right)}{R_{4}}\\right)}{R_{6} + R_{7}} - \\frac{R_{2} \\left(\\frac{R_{3} \\left(V_{1} - V_{2}\\right)}{R_{4}} + \\frac{R_{7} \\left(V_{2} - \\frac{R_{5} \\left(V_{1} - V_{2}\\right)}{R_{4}}\\right)}{R_{6} + R_{7}} - V_{1}\\right)}{R_{1}}$$"
      ],
      "text/plain": [
       "                            ⎛                  ⎛     R₅⋅(V₁ - V₂)⎞     ⎞\n",
       "                            ⎜               R₇⋅⎜V₂ - ────────────⎟     ⎟\n",
       "   ⎛     R₅⋅(V₁ - V₂)⎞      ⎜R₃⋅(V₁ - V₂)      ⎝          R₄     ⎠     ⎟\n",
       "R₇⋅⎜V₂ - ────────────⎟   R₂⋅⎜──────────── + ────────────────────── - V₁⎟\n",
       "   ⎝          R₄     ⎠      ⎝     R₄               R₆ + R₇             ⎠\n",
       "────────────────────── - ───────────────────────────────────────────────\n",
       "       R₆ + R₇                                  R₁                      "
      ]
     },
     "execution_count": 37,
     "metadata": {},
     "output_type": "execute_result"
    }
   ],
   "source": [
    "Vout = Vc - R2*I1"
   ]
  },
  {
   "cell_type": "code",
   "execution_count": 43,
   "metadata": {},
   "outputs": [
    {
     "data": {
      "image/png": "[encoded data removed]",
      "text/latex": [
       "$$1.0 V_{2}$$"
      ],
      "text/plain": [
       "1.0⋅V₂"
      ]
     },
     "execution_count": 43,
     "metadata": {},
     "output_type": "execute_result"
    }
   ],
   "source": [
    "mylist = [(V1,V1),(V2,V2),\n",
    "         (R1,1e3),(R2,1e3),\n",
    "         (R3,1e3),(R4,1e3),(R5,1e3),\n",
    "         (R6,1e3),(R7,1e3)]\n",
    "Vout.subs(mylist)"
   ]
  },
  {
   "cell_type": "code",
   "execution_count": null,
   "metadata": {},
   "outputs": [],
   "source": []
  }
 ],
 "metadata": {
  "kernelspec": {
   "display_name": "Python 3",
   "language": "python",
   "name": "python3"
  },
  "language_info": {
   "codemirror_mode": {
    "name": "ipython",
    "version": 3
   },
   "file_extension": ".py",
   "mimetype": "text/x-python",
   "name": "python",
   "nbconvert_exporter": "python",
   "pygments_lexer": "ipython3",
   "version": "3.6.6"
  }
 },
 "nbformat": 4,
 "nbformat_minor": 2
}
